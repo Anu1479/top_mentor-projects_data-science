{
 "cells": [
  {
   "cell_type": "markdown",
   "id": "50ffc1f2",
   "metadata": {},
   "source": [
    "PYTHON ASSIGNMENT\n",
    "\n",
    "Exercise 1: Mailing Address\n",
    "\n",
    "Create a program that displays your name and complete mailing address formatted in the manner that you would usually see it on the outside of an envelope. Your program does not need to read any input from the user"
   ]
  },
  {
   "cell_type": "code",
   "execution_count": 1,
   "id": "774b0b06",
   "metadata": {},
   "outputs": [
    {
     "name": "stdout",
     "output_type": "stream",
     "text": [
      "Anushma Joy\n",
      "d/o Joy N V,vincent compound,new extension ,Madikeri\n",
      "Kodagu 571201,Karnataka\n",
      "India\n"
     ]
    }
   ],
   "source": [
    "print(\"Anushma Joy\")\n",
    "print(f\"d/o Joy N V,vincent compound,new extension ,Madikeri\")\n",
    "print(\"Kodagu 571201,Karnataka\")\n",
    "print(\"India\")"
   ]
  },
  {
   "cell_type": "markdown",
   "id": "b865f22c",
   "metadata": {},
   "source": [
    "Exercise 2: Hello\n",
    "\n",
    "Write a program that asks the user to enter his or her name. The program should respond \n",
    "with a message that says hello to the user, using his or her name."
   ]
  },
  {
   "cell_type": "code",
   "execution_count": 2,
   "id": "ffb911cc",
   "metadata": {},
   "outputs": [
    {
     "name": "stdout",
     "output_type": "stream",
     "text": [
      "Enter your name - Anushma Joy\n",
      "Hello,Anushma Joy!\n"
     ]
    }
   ],
   "source": [
    "name = input(\"Enter your name - \")\n",
    "print(f\"Hello,{name}!\")"
   ]
  },
  {
   "cell_type": "markdown",
   "id": "6cccff12",
   "metadata": {},
   "source": [
    "Exercise 3: Area of a Room\n",
    "\n",
    "Write a program that asks the user to enter the width and length of a room. Once the values have been read, your program should compute and display the area of the room. The length and the width will be entered as floating-point numbers. Include units in your prompt and output message; either feet or meters, depending on which unit you are more comfortable working with."
   ]
  },
  {
   "cell_type": "code",
   "execution_count": 3,
   "id": "f9463742",
   "metadata": {},
   "outputs": [
    {
     "name": "stdout",
     "output_type": "stream",
     "text": [
      "Length of a room(in meters):16\n",
      "width of a room(in meters):8\n",
      "\n",
      " Area of a room : 128.0meter sq\n"
     ]
    }
   ],
   "source": [
    "length = float(input(\"Length of a room(in meters):\"))\n",
    "width = float(input(\"width of a room(in meters):\"))\n",
    "area = length*width\n",
    "\n",
    "print(\"\\n Area of a room : {}meter sq\".format(area))"
   ]
  },
  {
   "cell_type": "markdown",
   "id": "cba6e10d",
   "metadata": {},
   "source": [
    "Exercise 4: Area of a Field\n",
    "\n",
    "Create a program that reads the length and width of a farmer’s field from the user in feet. \n",
    "Display the area of the field in acres.\n",
    "Hint: There are 43,560 square feet in an acre"
   ]
  },
  {
   "cell_type": "code",
   "execution_count": 4,
   "id": "1ffa040d",
   "metadata": {},
   "outputs": [
    {
     "name": "stdout",
     "output_type": "stream",
     "text": [
      "length of a field(ft): 550\n",
      "width of a field(ft): 230\n",
      "\n",
      " Area of a field :2.904040404040404acre\n"
     ]
    }
   ],
   "source": [
    "length = float(input(\"length of a field(ft): \"))\n",
    "width = float(input(\"width of a field(ft): \"))\n",
    "area = length*width/43560\n",
    "\n",
    "print(\"\\n Area of a field :{}acre\".format(area))"
   ]
  },
  {
   "cell_type": "markdown",
   "id": "45f23342",
   "metadata": {},
   "source": [
    "Exercise 5: Bottle Deposits\n",
    "\n",
    "In many jurisdictions a small deposit is added to drink containers to encourage people to \n",
    "recycle them. In one particular jurisdiction, drink containers holding one litre or less have a \n",
    "$0.10 deposit, and drink containers holding more than one litre have a $0.25 deposit. Write \n",
    "a program that reads the number of containers of each size from the user. Your program \n",
    "should continue by computing and displaying the refund that will be received for returning \n",
    "those containers. Format the output so that it includes a dollar sign and always displays \n",
    "exactly two decimal places"
   ]
  },
  {
   "cell_type": "code",
   "execution_count": 6,
   "id": "3ac453c5",
   "metadata": {},
   "outputs": [
    {
     "name": "stdout",
     "output_type": "stream",
     "text": [
      "Enter the number of small container(<=1liter): 478\n",
      "Enter the number of large container(>1liter): 675\n",
      "Total refund amount on all container is $216.55.\n"
     ]
    }
   ],
   "source": [
    "deposit1 = 0.10\n",
    "deposit2 = 0.25\n",
    "small_container = int(input(\"Enter the number of small container(<=1liter): \"))\n",
    "large_container = int(input(\"Enter the number of large container(>1liter): \"))\n",
    "refund = small_container *deposit1 + large_container * deposit2\n",
    "\n",
    "print(\"Total refund amount on all container is $%.2f.\" %refund)"
   ]
  },
  {
   "cell_type": "markdown",
   "id": "346eaecd",
   "metadata": {},
   "source": [
    "Exercise 6: Tax and Tip\n",
    "    \n",
    "The program that you create for this exercise will begin by reading the cost of a meal \n",
    "ordered at a restaurant from the user. Then your program will compute the tax and tip for \n",
    "the meal. Use your local tax rate when computing the amount of tax owing. Compute the tip \n",
    "as 18 percent of the meal amount (without the tax). The output from your program should \n",
    "include the tax amount, the tip amount, and the grand total for the meal including both thetax and the tip. Format the output so that all of the values are displayed using two decimal \n",
    "places."
   ]
  },
  {
   "cell_type": "code",
   "execution_count": 7,
   "id": "d86505f0",
   "metadata": {},
   "outputs": [
    {
     "name": "stdout",
     "output_type": "stream",
     "text": [
      "Meal Cost: 850\n",
      "\n",
      "Tax Amount: 238.00rs, Tip Amount: 153.00rs and Total Amount: 1241.00rs\n"
     ]
    }
   ],
   "source": [
    "meal_cost = float(input(\"Meal Cost: \"))\n",
    "tax_cost = meal_cost*0.28\n",
    "tip_cost = meal_cost*0.18\n",
    "total_cost = meal_cost + tax_cost + tip_cost\n",
    "\n",
    "tax_amt = \"{:.2f}\".format(tax_cost)\n",
    "tip_amt = \"{:.2f}\".format(tip_cost)\n",
    "total_amt = \"{:.2f}\".format(total_cost)\n",
    "\n",
    "print(\"\\nTax Amount: {}rs, Tip Amount: {}rs and Total Amount: {}rs\".format(tax_amt, tip_amt, total_amt))"
   ]
  },
  {
   "cell_type": "markdown",
   "id": "ee46ead5",
   "metadata": {},
   "source": [
    "Exercise 7: Fuel Efficiency\n",
    "\n",
    "In the United States, fuel efficiency for vehicles is normally expressed in miles-per gallon \n",
    "(MPG). In Canada, fuel efficiency is normally expressed in litres-per-hundred kilometres\n",
    "(L/100 km). Use your research skills to determine how to convert from MPG to L/100 km. \n",
    "Then create a program that reads a value from the user in American units and displays the \n",
    "equivalent fuel efficiency in Canadian units"
   ]
  },
  {
   "cell_type": "code",
   "execution_count": 8,
   "id": "94fbb20b",
   "metadata": {},
   "outputs": [
    {
     "name": "stdout",
     "output_type": "stream",
     "text": [
      "Enter fuel efficiency(MPG):35\n",
      "The equivalent fuel efficiency: 8.585085714285714 L/100km\n"
     ]
    }
   ],
   "source": [
    "litre_per_gallon = 6\n",
    "km_per_miles = 4\n",
    "fuel_eff = float(input(\"Enter fuel efficiency(MPG):\"))\n",
    "print(f\"The equivalent fuel efficiency: {300.478/fuel_eff} L/100km\")"
   ]
  },
  {
   "cell_type": "markdown",
   "id": "c38bb3bd",
   "metadata": {},
   "source": [
    "Exercise 8: Height Units\n",
    "\n",
    "Many people think about their height in feet and inches, even in some countries that \n",
    "primarily use the metric system. Write a program that reads a number of feet from the user, \n",
    "followed by a number of inches. Once these values are read, your program should compute \n",
    "and display the equivalent number of centimetres.\n",
    "Hint: One foot is 12 inches. One inch is 2.54 centimetres"
   ]
  },
  {
   "cell_type": "code",
   "execution_count": 10,
   "id": "6924981a",
   "metadata": {},
   "outputs": [
    {
     "name": "stdout",
     "output_type": "stream",
     "text": [
      "Enter you height in feet: 6\n",
      "Enter your hieght in inches: 72\n",
      "The height of human in cm 365.76\n"
     ]
    }
   ],
   "source": [
    "feet_in_inch = 12\n",
    "inch_in_cm = 2.54\n",
    "height = int(input(\"Enter you height in feet: \"))\n",
    "inch = int(input(\"Enter your hieght in inches: \"))\n",
    "h_cm = height*12*2.54 + inch*2.54\n",
    "print(\"The height of human in cm %.2f\" %h_cm)"
   ]
  },
  {
   "cell_type": "code",
   "execution_count": null,
   "id": "d96ed0eb",
   "metadata": {},
   "outputs": [],
   "source": []
  }
 ],
 "metadata": {
  "kernelspec": {
   "display_name": "Python 3",
   "language": "python",
   "name": "python3"
  },
  "language_info": {
   "codemirror_mode": {
    "name": "ipython",
    "version": 3
   },
   "file_extension": ".py",
   "mimetype": "text/x-python",
   "name": "python",
   "nbconvert_exporter": "python",
   "pygments_lexer": "ipython3",
   "version": "3.8.8"
  }
 },
 "nbformat": 4,
 "nbformat_minor": 5
}
